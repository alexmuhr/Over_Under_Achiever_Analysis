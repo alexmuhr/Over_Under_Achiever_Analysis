{
 "cells": [
  {
   "cell_type": "code",
   "execution_count": 10,
   "metadata": {},
   "outputs": [],
   "source": [
    "import pandas as pd\n",
    "from sportsreference.nba.teams import Teams\n"
   ]
  },
  {
   "cell_type": "code",
   "execution_count": 24,
   "metadata": {},
   "outputs": [],
   "source": [
    "year = str(2020)\n",
    "all_team_df = Teams(year = year).dataframes"
   ]
  },
  {
   "cell_type": "code",
   "execution_count": 25,
   "metadata": {},
   "outputs": [],
   "source": [
    "#all_team_df['id'] = \n",
    "all_team_df['id'] = all_team_df['abbreviation'].apply(lambda x: x + \" \" + year)"
   ]
  },
  {
   "cell_type": "code",
   "execution_count": 26,
   "metadata": {},
   "outputs": [
    {
     "data": {
      "text/plain": [
       "(30, 48)"
      ]
     },
     "execution_count": 26,
     "metadata": {},
     "output_type": "execute_result"
    }
   ],
   "source": [
    "all_team_df.shape"
   ]
  },
  {
   "cell_type": "code",
   "execution_count": 27,
   "metadata": {},
   "outputs": [
    {
     "name": "stdout",
     "output_type": "stream",
     "text": [
      "2019\n",
      "2018\n",
      "2017\n",
      "2016\n",
      "2015\n",
      "2014\n",
      "2013\n",
      "2012\n",
      "2011\n",
      "2010\n",
      "2009\n",
      "2008\n",
      "2007\n",
      "2006\n",
      "2005\n",
      "2004\n",
      "2003\n",
      "2002\n",
      "2001\n",
      "2000\n",
      "1999\n",
      "1998\n",
      "1997\n",
      "1996\n",
      "1995\n",
      "1994\n",
      "1993\n",
      "1992\n",
      "1991\n",
      "1990\n",
      "1989\n",
      "1988\n",
      "1987\n",
      "1986\n",
      "1985\n",
      "1984\n",
      "1983\n",
      "1982\n",
      "1981\n",
      "1980\n"
     ]
    }
   ],
   "source": [
    "for i in range(2019,1979,-1):\n",
    "    print(i)\n",
    "    year = str(i)\n",
    "    temp_df = Teams(year = year).dataframes\n",
    "    temp_df['id'] = temp_df['abbreviation'].apply(lambda x: x + \" \" + year)\n",
    "    all_team_df = pd.concat([all_team_df, temp_df], axis = 0)"
   ]
  },
  {
   "cell_type": "code",
   "execution_count": 31,
   "metadata": {},
   "outputs": [],
   "source": [
    "all_team_df['year'] = all_team_df['id'].apply(lambda x: x.split(' ')[1])"
   ]
  },
  {
   "cell_type": "code",
   "execution_count": 34,
   "metadata": {},
   "outputs": [
    {
     "data": {
      "text/plain": [
       "Index(['abbreviation', 'assists', 'blocks', 'defensive_rebounds',\n",
       "       'field_goal_attempts', 'field_goal_percentage', 'field_goals',\n",
       "       'free_throw_attempts', 'free_throw_percentage', 'free_throws',\n",
       "       'games_played', 'minutes_played', 'name', 'offensive_rebounds',\n",
       "       'opp_assists', 'opp_blocks', 'opp_defensive_rebounds',\n",
       "       'opp_field_goal_attempts', 'opp_field_goal_percentage',\n",
       "       'opp_field_goals', 'opp_free_throw_attempts',\n",
       "       'opp_free_throw_percentage', 'opp_free_throws',\n",
       "       'opp_offensive_rebounds', 'opp_personal_fouls', 'opp_points',\n",
       "       'opp_steals', 'opp_three_point_field_goal_attempts',\n",
       "       'opp_three_point_field_goal_percentage', 'opp_three_point_field_goals',\n",
       "       'opp_total_rebounds', 'opp_turnovers',\n",
       "       'opp_two_point_field_goal_attempts',\n",
       "       'opp_two_point_field_goal_percentage', 'opp_two_point_field_goals',\n",
       "       'personal_fouls', 'points', 'rank', 'steals',\n",
       "       'three_point_field_goal_attempts', 'three_point_field_goal_percentage',\n",
       "       'three_point_field_goals', 'total_rebounds', 'turnovers',\n",
       "       'two_point_field_goal_attempts', 'two_point_field_goal_percentage',\n",
       "       'two_point_field_goals', 'id', 'year'],\n",
       "      dtype='object')"
      ]
     },
     "execution_count": 34,
     "metadata": {},
     "output_type": "execute_result"
    }
   ],
   "source": [
    "all_team_df.columns"
   ]
  },
  {
   "cell_type": "code",
   "execution_count": 53,
   "metadata": {},
   "outputs": [],
   "source": [
    "from sportsreference.nba.schedule import Schedule"
   ]
  },
  {
   "cell_type": "code",
   "execution_count": 121,
   "metadata": {},
   "outputs": [],
   "source": [
    "def get_win_rate(tid):\n",
    "    abb = tid.split(' ')[0]\n",
    "    year = int(tid.split(' ')[1])\n",
    "    games = 0\n",
    "    wins = 0\n",
    "    playoff_games = 0\n",
    "    playoff_wins = 0\n",
    "    \n",
    "    for game in Schedule(abb, year = year):\n",
    "        if game.playoffs == False:\n",
    "            games += 1\n",
    "            if game.result == 'Win':\n",
    "                wins += 1\n",
    "        elif game.playoffs == True:\n",
    "            playoff_games += 1\n",
    "            if game.result == 'Win':\n",
    "                playoff_wins += 1\n",
    "            \n",
    "    return wins, games, playoff_wins, playoff_games"
   ]
  },
  {
   "cell_type": "code",
   "execution_count": 122,
   "metadata": {},
   "outputs": [
    {
     "data": {
      "text/plain": [
       "(15, 65, 0, 0)"
      ]
     },
     "execution_count": 122,
     "metadata": {},
     "output_type": "execute_result"
    }
   ],
   "source": [
    "get_win_rate('GSW 2020')"
   ]
  },
  {
   "cell_type": "code",
   "execution_count": 125,
   "metadata": {},
   "outputs": [],
   "source": [
    "total_wins_dict = {}"
   ]
  },
  {
   "cell_type": "code",
   "execution_count": 127,
   "metadata": {},
   "outputs": [
    {
     "name": "stdout",
     "output_type": "stream",
     "text": [
      "1998\n",
      "1997\n",
      "1996\n",
      "1995\n",
      "1994\n",
      "1993\n",
      "1992\n",
      "1991\n",
      "1990\n",
      "1989\n",
      "1988\n",
      "1987\n",
      "1986\n",
      "1985\n",
      "1984\n",
      "1983\n",
      "1982\n",
      "1981\n",
      "1980\n"
     ]
    }
   ],
   "source": [
    "for y in range(1998, 1979, -1):\n",
    "    \n",
    "    tids = data[data['year'] == str(y)]['id']\n",
    "    \n",
    "    wins_dict = {'id': [], 'wins': [], 'games': [], 'playoff_wins': [], 'playoff_games': []}\n",
    "\n",
    "    for i, tid in enumerate(tids):\n",
    "        wins, games, playoff_wins, playoff_games = get_win_rate(tid)\n",
    "        wins_dict['id'].append(tid)\n",
    "        wins_dict['wins'].append(wins)\n",
    "        wins_dict['games'].append(games)\n",
    "        wins_dict['playoff_wins'].append(playoff_wins)\n",
    "        wins_dict['playoff_games'].append(playoff_games)\n",
    "        \n",
    "    total_wins_dict[y] = wins_dict\n",
    "    print(y)"
   ]
  },
  {
   "cell_type": "code",
   "execution_count": 128,
   "metadata": {},
   "outputs": [],
   "source": [
    "total_wins_df = pd.DataFrame(total_wins_dict[2020])\n",
    "\n",
    "for key in list(total_wins_dict.keys())[1:]:\n",
    "    temp_df = pd.DataFrame(total_wins_dict[key])\n",
    "    total_wins_df = pd.concat([total_wins_df, temp_df], axis = 0)\n",
    "\n",
    "all_data = pd.merge(left = all_team_df, right = total_wins_df, how = 'inner', left_on = 'id', right_on = 'id')\n",
    "\n"
   ]
  },
  {
   "cell_type": "code",
   "execution_count": 137,
   "metadata": {},
   "outputs": [],
   "source": [
    "all_data.to_csv('Data/all_team_data_1980-2020.csv')"
   ]
  },
  {
   "cell_type": "code",
   "execution_count": null,
   "metadata": {},
   "outputs": [],
   "source": []
  }
 ],
 "metadata": {
  "kernelspec": {
   "display_name": "metis",
   "language": "python",
   "name": "metis"
  },
  "language_info": {
   "codemirror_mode": {
    "name": "ipython",
    "version": 3
   },
   "file_extension": ".py",
   "mimetype": "text/x-python",
   "name": "python",
   "nbconvert_exporter": "python",
   "pygments_lexer": "ipython3",
   "version": "3.7.3"
  }
 },
 "nbformat": 4,
 "nbformat_minor": 2
}
