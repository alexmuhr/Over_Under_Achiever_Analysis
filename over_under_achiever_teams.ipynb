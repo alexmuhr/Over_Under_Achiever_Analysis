{
 "cells": [
  {
   "cell_type": "code",
   "execution_count": 1,
   "metadata": {},
   "outputs": [
    {
     "name": "stderr",
     "output_type": "stream",
     "text": [
      "/Users/alex/anaconda3/lib/python3.7/site-packages/statsmodels/compat/pandas.py:49: FutureWarning: The Panel class is removed from pandas. Accessing it from the top-level namespace will also be removed in the next version\n",
      "  data_klasses = (pandas.Series, pandas.DataFrame, pandas.Panel)\n"
     ]
    }
   ],
   "source": [
    "import pandas as pd\n",
    "import matplotlib.pyplot as plt\n",
    "import seaborn as sns\n",
    "import statsmodels.api as sm\n",
    "import numpy as np\n",
    "\n",
    "%matplotlib inline"
   ]
  },
  {
   "cell_type": "code",
   "execution_count": 2,
   "metadata": {},
   "outputs": [],
   "source": [
    "data = pd.read_csv('Data/all_team_data_1980-2020.csv', index_col = 'id').drop('Unnamed: 0', axis = 1)"
   ]
  },
  {
   "cell_type": "code",
   "execution_count": 3,
   "metadata": {},
   "outputs": [
    {
     "data": {
      "text/plain": [
       "Index(['abbreviation', 'assists', 'blocks', 'defensive_rebounds',\n",
       "       'field_goal_attempts', 'field_goal_percentage', 'field_goals',\n",
       "       'free_throw_attempts', 'free_throw_percentage', 'free_throws',\n",
       "       'games_played', 'minutes_played', 'name', 'offensive_rebounds',\n",
       "       'opp_assists', 'opp_blocks', 'opp_defensive_rebounds',\n",
       "       'opp_field_goal_attempts', 'opp_field_goal_percentage',\n",
       "       'opp_field_goals', 'opp_free_throw_attempts',\n",
       "       'opp_free_throw_percentage', 'opp_free_throws',\n",
       "       'opp_offensive_rebounds', 'opp_personal_fouls', 'opp_points',\n",
       "       'opp_steals', 'opp_three_point_field_goal_attempts',\n",
       "       'opp_three_point_field_goal_percentage', 'opp_three_point_field_goals',\n",
       "       'opp_total_rebounds', 'opp_turnovers',\n",
       "       'opp_two_point_field_goal_attempts',\n",
       "       'opp_two_point_field_goal_percentage', 'opp_two_point_field_goals',\n",
       "       'personal_fouls', 'points', 'rank', 'steals',\n",
       "       'three_point_field_goal_attempts', 'three_point_field_goal_percentage',\n",
       "       'three_point_field_goals', 'total_rebounds', 'turnovers',\n",
       "       'two_point_field_goal_attempts', 'two_point_field_goal_percentage',\n",
       "       'two_point_field_goals', 'year', 'wins', 'games', 'playoff_wins',\n",
       "       'playoff_games'],\n",
       "      dtype='object')"
      ]
     },
     "execution_count": 3,
     "metadata": {},
     "output_type": "execute_result"
    }
   ],
   "source": [
    "data.columns"
   ]
  },
  {
   "cell_type": "code",
   "execution_count": 4,
   "metadata": {},
   "outputs": [],
   "source": [
    "data['MOV'] = [(points - opp_points) / games for points, opp_points, games in zip(data['points'],\n",
    "                                                                                      data['opp_points'],\n",
    "                                                                                      data['games'])]\n",
    "data['adj_win_rate'] = [wins / games - 0.5 for wins, games in zip(data['wins'], data['games'])]\n",
    "data['win_rate'] = [wins / games for wins, games in zip(data['wins'], data['games'])]"
   ]
  },
  {
   "cell_type": "code",
   "execution_count": 5,
   "metadata": {},
   "outputs": [],
   "source": [
    "X = pd.DataFrame(data['MOV'])\n",
    "X['intercept'] = [1 for x in range(data.shape[0])]\n",
    "y = data['win_rate']"
   ]
  },
  {
   "cell_type": "code",
   "execution_count": 6,
   "metadata": {},
   "outputs": [
    {
     "data": {
      "text/html": [
       "<table class=\"simpletable\">\n",
       "<caption>OLS Regression Results</caption>\n",
       "<tr>\n",
       "  <th>Dep. Variable:</th>        <td>win_rate</td>     <th>  R-squared:         </th> <td>   0.941</td> \n",
       "</tr>\n",
       "<tr>\n",
       "  <th>Model:</th>                   <td>OLS</td>       <th>  Adj. R-squared:    </th> <td>   0.941</td> \n",
       "</tr>\n",
       "<tr>\n",
       "  <th>Method:</th>             <td>Least Squares</td>  <th>  F-statistic:       </th> <td>1.817e+04</td>\n",
       "</tr>\n",
       "<tr>\n",
       "  <th>Date:</th>             <td>Thu, 23 Apr 2020</td> <th>  Prob (F-statistic):</th>  <td>  0.00</td>  \n",
       "</tr>\n",
       "<tr>\n",
       "  <th>Time:</th>                 <td>15:46:59</td>     <th>  Log-Likelihood:    </th> <td>  2114.8</td> \n",
       "</tr>\n",
       "<tr>\n",
       "  <th>No. Observations:</th>      <td>  1134</td>      <th>  AIC:               </th> <td>  -4226.</td> \n",
       "</tr>\n",
       "<tr>\n",
       "  <th>Df Residuals:</th>          <td>  1132</td>      <th>  BIC:               </th> <td>  -4215.</td> \n",
       "</tr>\n",
       "<tr>\n",
       "  <th>Df Model:</th>              <td>     1</td>      <th>                     </th>     <td> </td>    \n",
       "</tr>\n",
       "<tr>\n",
       "  <th>Covariance Type:</th>      <td>nonrobust</td>    <th>                     </th>     <td> </td>    \n",
       "</tr>\n",
       "</table>\n",
       "<table class=\"simpletable\">\n",
       "<tr>\n",
       "      <td></td>         <th>coef</th>     <th>std err</th>      <th>t</th>      <th>P>|t|</th>  <th>[0.025</th>    <th>0.975]</th>  \n",
       "</tr>\n",
       "<tr>\n",
       "  <th>MOV</th>       <td>    0.0324</td> <td>    0.000</td> <td>  134.780</td> <td> 0.000</td> <td>    0.032</td> <td>    0.033</td>\n",
       "</tr>\n",
       "<tr>\n",
       "  <th>intercept</th> <td>    0.5000</td> <td>    0.001</td> <td>  448.789</td> <td> 0.000</td> <td>    0.498</td> <td>    0.502</td>\n",
       "</tr>\n",
       "</table>\n",
       "<table class=\"simpletable\">\n",
       "<tr>\n",
       "  <th>Omnibus:</th>       <td> 0.365</td> <th>  Durbin-Watson:     </th> <td>   2.027</td>\n",
       "</tr>\n",
       "<tr>\n",
       "  <th>Prob(Omnibus):</th> <td> 0.833</td> <th>  Jarque-Bera (JB):  </th> <td>   0.450</td>\n",
       "</tr>\n",
       "<tr>\n",
       "  <th>Skew:</th>          <td>-0.008</td> <th>  Prob(JB):          </th> <td>   0.799</td>\n",
       "</tr>\n",
       "<tr>\n",
       "  <th>Kurtosis:</th>      <td> 2.904</td> <th>  Cond. No.          </th> <td>    4.64</td>\n",
       "</tr>\n",
       "</table><br/><br/>Warnings:<br/>[1] Standard Errors assume that the covariance matrix of the errors is correctly specified."
      ],
      "text/plain": [
       "<class 'statsmodels.iolib.summary.Summary'>\n",
       "\"\"\"\n",
       "                            OLS Regression Results                            \n",
       "==============================================================================\n",
       "Dep. Variable:               win_rate   R-squared:                       0.941\n",
       "Model:                            OLS   Adj. R-squared:                  0.941\n",
       "Method:                 Least Squares   F-statistic:                 1.817e+04\n",
       "Date:                Thu, 23 Apr 2020   Prob (F-statistic):               0.00\n",
       "Time:                        15:46:59   Log-Likelihood:                 2114.8\n",
       "No. Observations:                1134   AIC:                            -4226.\n",
       "Df Residuals:                    1132   BIC:                            -4215.\n",
       "Df Model:                           1                                         \n",
       "Covariance Type:            nonrobust                                         \n",
       "==============================================================================\n",
       "                 coef    std err          t      P>|t|      [0.025      0.975]\n",
       "------------------------------------------------------------------------------\n",
       "MOV            0.0324      0.000    134.780      0.000       0.032       0.033\n",
       "intercept      0.5000      0.001    448.789      0.000       0.498       0.502\n",
       "==============================================================================\n",
       "Omnibus:                        0.365   Durbin-Watson:                   2.027\n",
       "Prob(Omnibus):                  0.833   Jarque-Bera (JB):                0.450\n",
       "Skew:                          -0.008   Prob(JB):                        0.799\n",
       "Kurtosis:                       2.904   Cond. No.                         4.64\n",
       "==============================================================================\n",
       "\n",
       "Warnings:\n",
       "[1] Standard Errors assume that the covariance matrix of the errors is correctly specified.\n",
       "\"\"\""
      ]
     },
     "execution_count": 6,
     "metadata": {},
     "output_type": "execute_result"
    }
   ],
   "source": [
    "model = sm.OLS(y, X)\n",
    "fit = model.fit()\n",
    "fit.summary()"
   ]
  },
  {
   "cell_type": "code",
   "execution_count": 7,
   "metadata": {},
   "outputs": [],
   "source": [
    "preds = fit.predict(X)"
   ]
  },
  {
   "cell_type": "code",
   "execution_count": 8,
   "metadata": {},
   "outputs": [
    {
     "data": {
      "image/png": "[encoded data removed]",
      "text/plain": [
       "<Figure size 432x288 with 1 Axes>"
      ]
     },
     "metadata": {
      "needs_background": "light"
     },
     "output_type": "display_data"
    }
   ],
   "source": [
    "sns.scatterplot(x = X['MOV'], y = y)\n",
    "sns.lineplot(x = X['MOV'], y = preds, color = 'red')\n",
    "plt.title('Margin of Victory vs Win Rate');"
   ]
  },
  {
   "cell_type": "code",
   "execution_count": 9,
   "metadata": {},
   "outputs": [],
   "source": [
    "def mae(predictions, actuals):\n",
    "    sae = 0\n",
    "    for pred, act in zip(predictions, actuals):\n",
    "        sae += abs(pred - act)\n",
    "    return sae / len(predictions)"
   ]
  },
  {
   "cell_type": "code",
   "execution_count": 10,
   "metadata": {},
   "outputs": [
    {
     "data": {
      "text/plain": [
       "0.030059353044350125"
      ]
     },
     "execution_count": 10,
     "metadata": {},
     "output_type": "execute_result"
    }
   ],
   "source": [
    "mae(preds, y)"
   ]
  },
  {
   "cell_type": "code",
   "execution_count": 11,
   "metadata": {},
   "outputs": [],
   "source": [
    "results = pd.DataFrame({'id': data.index, 'MOV': data['MOV'], 'actual': data['win_rate'], 'prediction': preds})\n",
    "\n",
    "# Positive Error for overachievers, negative error for underachievers\n",
    "results['error'] = [act - pred for act, pred in zip(results['actual'], results['prediction'])]\n",
    "\n",
    "merge_cols = ['wins', 'games', 'playoff_wins', 'playoff_games']\n",
    "\n",
    "results = pd.merge(left = results, right = data[merge_cols], how = 'inner', right_index = True, left_index = True)\n",
    "\n",
    "results['predicted_wins'] = [int(round((prediction) * games, 0)) for prediction,\n",
    "                             games in zip(results['prediction'], results['games'])]\n",
    "\n",
    "results['game_error'] = [wins - pwins for wins, pwins in zip(results['wins'], results['predicted_wins'])]"
   ]
  },
  {
   "cell_type": "code",
   "execution_count": 12,
   "metadata": {},
   "outputs": [
    {
     "data": {
      "text/plain": [
       "2.4038800705467374"
      ]
     },
     "execution_count": 12,
     "metadata": {},
     "output_type": "execute_result"
    }
   ],
   "source": [
    "mae(results['predicted_wins'], results['wins'])"
   ]
  },
  {
   "cell_type": "code",
   "execution_count": 13,
   "metadata": {},
   "outputs": [
    {
     "data": {
      "image/png": "[encoded data removed]",
      "text/plain": [
       "<Figure size 1080x432 with 2 Axes>"
      ]
     },
     "metadata": {
      "needs_background": "light"
     },
     "output_type": "display_data"
    }
   ],
   "source": [
    "plt.figure(figsize=(15,6))\n",
    "\n",
    "plt.subplot(1,2,1)\n",
    "sns.scatterplot(x = X['MOV'], y = y)\n",
    "sns.lineplot(x = X['MOV'], y = preds, color = 'red')\n",
    "plt.title('Margin of Victory vs Win Rate')\n",
    "\n",
    "plt.subplot(1,2,2)\n",
    "sns.distplot(results['game_error'], bins = 21)\n",
    "plt.title('Residual Distribution');"
   ]
  },
  {
   "cell_type": "code",
   "execution_count": 14,
   "metadata": {},
   "outputs": [],
   "source": [
    "overachievers = results.sort_values(by = 'error', ascending = False).head(10)\n",
    "underachievers = results.sort_values(by = 'error').head(10)"
   ]
  },
  {
   "cell_type": "code",
   "execution_count": 15,
   "metadata": {},
   "outputs": [
    {
     "data": {
      "text/html": [
       "<div>\n",
       "<style scoped>\n",
       "    .dataframe tbody tr th:only-of-type {\n",
       "        vertical-align: middle;\n",
       "    }\n",
       "\n",
       "    .dataframe tbody tr th {\n",
       "        vertical-align: top;\n",
       "    }\n",
       "\n",
       "    .dataframe thead th {\n",
       "        text-align: right;\n",
       "    }\n",
       "</style>\n",
       "<table border=\"1\" class=\"dataframe\">\n",
       "  <thead>\n",
       "    <tr style=\"text-align: right;\">\n",
       "      <th></th>\n",
       "      <th>id</th>\n",
       "      <th>MOV</th>\n",
       "      <th>actual</th>\n",
       "      <th>prediction</th>\n",
       "      <th>error</th>\n",
       "      <th>wins</th>\n",
       "      <th>games</th>\n",
       "      <th>playoff_wins</th>\n",
       "      <th>playoff_games</th>\n",
       "      <th>predicted_wins</th>\n",
       "      <th>game_error</th>\n",
       "    </tr>\n",
       "    <tr>\n",
       "      <th>id</th>\n",
       "      <th></th>\n",
       "      <th></th>\n",
       "      <th></th>\n",
       "      <th></th>\n",
       "      <th></th>\n",
       "      <th></th>\n",
       "      <th></th>\n",
       "      <th></th>\n",
       "      <th></th>\n",
       "      <th></th>\n",
       "      <th></th>\n",
       "    </tr>\n",
       "  </thead>\n",
       "  <tbody>\n",
       "    <tr>\n",
       "      <th>DAL 1993</th>\n",
       "      <td>DAL 1993</td>\n",
       "      <td>-15.195122</td>\n",
       "      <td>0.134146</td>\n",
       "      <td>0.008064</td>\n",
       "      <td>0.126082</td>\n",
       "      <td>11</td>\n",
       "      <td>82</td>\n",
       "      <td>0</td>\n",
       "      <td>0</td>\n",
       "      <td>1</td>\n",
       "      <td>10</td>\n",
       "    </tr>\n",
       "    <tr>\n",
       "      <th>LAC 1986</th>\n",
       "      <td>LAC 1986</td>\n",
       "      <td>-6.926829</td>\n",
       "      <td>0.390244</td>\n",
       "      <td>0.275748</td>\n",
       "      <td>0.114496</td>\n",
       "      <td>32</td>\n",
       "      <td>82</td>\n",
       "      <td>0</td>\n",
       "      <td>0</td>\n",
       "      <td>23</td>\n",
       "      <td>9</td>\n",
       "    </tr>\n",
       "    <tr>\n",
       "      <th>MIA 1992</th>\n",
       "      <td>MIA 1992</td>\n",
       "      <td>-4.207317</td>\n",
       "      <td>0.463415</td>\n",
       "      <td>0.363791</td>\n",
       "      <td>0.099624</td>\n",
       "      <td>38</td>\n",
       "      <td>82</td>\n",
       "      <td>0</td>\n",
       "      <td>3</td>\n",
       "      <td>30</td>\n",
       "      <td>8</td>\n",
       "    </tr>\n",
       "    <tr>\n",
       "      <th>CHH 1997</th>\n",
       "      <td>CHH 1997</td>\n",
       "      <td>1.865854</td>\n",
       "      <td>0.658537</td>\n",
       "      <td>0.560408</td>\n",
       "      <td>0.098128</td>\n",
       "      <td>54</td>\n",
       "      <td>82</td>\n",
       "      <td>0</td>\n",
       "      <td>3</td>\n",
       "      <td>46</td>\n",
       "      <td>8</td>\n",
       "    </tr>\n",
       "    <tr>\n",
       "      <th>DEN 1991</th>\n",
       "      <td>DEN 1991</td>\n",
       "      <td>-10.914634</td>\n",
       "      <td>0.243902</td>\n",
       "      <td>0.146643</td>\n",
       "      <td>0.097259</td>\n",
       "      <td>20</td>\n",
       "      <td>82</td>\n",
       "      <td>0</td>\n",
       "      <td>0</td>\n",
       "      <td>12</td>\n",
       "      <td>8</td>\n",
       "    </tr>\n",
       "    <tr>\n",
       "      <th>NYK 1997</th>\n",
       "      <td>NYK 1997</td>\n",
       "      <td>3.121951</td>\n",
       "      <td>0.695122</td>\n",
       "      <td>0.601074</td>\n",
       "      <td>0.094048</td>\n",
       "      <td>57</td>\n",
       "      <td>82</td>\n",
       "      <td>6</td>\n",
       "      <td>10</td>\n",
       "      <td>49</td>\n",
       "      <td>8</td>\n",
       "    </tr>\n",
       "    <tr>\n",
       "      <th>PHO 1995</th>\n",
       "      <td>PHO 1995</td>\n",
       "      <td>3.878049</td>\n",
       "      <td>0.719512</td>\n",
       "      <td>0.625552</td>\n",
       "      <td>0.093960</td>\n",
       "      <td>59</td>\n",
       "      <td>82</td>\n",
       "      <td>6</td>\n",
       "      <td>10</td>\n",
       "      <td>51</td>\n",
       "      <td>8</td>\n",
       "    </tr>\n",
       "    <tr>\n",
       "      <th>LAL 1995</th>\n",
       "      <td>LAL 1995</td>\n",
       "      <td>-0.219512</td>\n",
       "      <td>0.585366</td>\n",
       "      <td>0.492895</td>\n",
       "      <td>0.092471</td>\n",
       "      <td>48</td>\n",
       "      <td>82</td>\n",
       "      <td>5</td>\n",
       "      <td>10</td>\n",
       "      <td>40</td>\n",
       "      <td>8</td>\n",
       "    </tr>\n",
       "    <tr>\n",
       "      <th>GSW 1987</th>\n",
       "      <td>GSW 1987</td>\n",
       "      <td>-2.341463</td>\n",
       "      <td>0.512195</td>\n",
       "      <td>0.424197</td>\n",
       "      <td>0.087998</td>\n",
       "      <td>42</td>\n",
       "      <td>82</td>\n",
       "      <td>4</td>\n",
       "      <td>10</td>\n",
       "      <td>35</td>\n",
       "      <td>7</td>\n",
       "    </tr>\n",
       "    <tr>\n",
       "      <th>UTA 2006</th>\n",
       "      <td>UTA 2006</td>\n",
       "      <td>-2.634146</td>\n",
       "      <td>0.500000</td>\n",
       "      <td>0.414722</td>\n",
       "      <td>0.085278</td>\n",
       "      <td>41</td>\n",
       "      <td>82</td>\n",
       "      <td>0</td>\n",
       "      <td>0</td>\n",
       "      <td>34</td>\n",
       "      <td>7</td>\n",
       "    </tr>\n",
       "  </tbody>\n",
       "</table>\n",
       "</div>"
      ],
      "text/plain": [
       "                id        MOV    actual  prediction     error  wins  games  \\\n",
       "id                                                                           \n",
       "DAL 1993  DAL 1993 -15.195122  0.134146    0.008064  0.126082    11     82   \n",
       "LAC 1986  LAC 1986  -6.926829  0.390244    0.275748  0.114496    32     82   \n",
       "MIA 1992  MIA 1992  -4.207317  0.463415    0.363791  0.099624    38     82   \n",
       "CHH 1997  CHH 1997   1.865854  0.658537    0.560408  0.098128    54     82   \n",
       "DEN 1991  DEN 1991 -10.914634  0.243902    0.146643  0.097259    20     82   \n",
       "NYK 1997  NYK 1997   3.121951  0.695122    0.601074  0.094048    57     82   \n",
       "PHO 1995  PHO 1995   3.878049  0.719512    0.625552  0.093960    59     82   \n",
       "LAL 1995  LAL 1995  -0.219512  0.585366    0.492895  0.092471    48     82   \n",
       "GSW 1987  GSW 1987  -2.341463  0.512195    0.424197  0.087998    42     82   \n",
       "UTA 2006  UTA 2006  -2.634146  0.500000    0.414722  0.085278    41     82   \n",
       "\n",
       "          playoff_wins  playoff_games  predicted_wins  game_error  \n",
       "id                                                                 \n",
       "DAL 1993             0              0               1          10  \n",
       "LAC 1986             0              0              23           9  \n",
       "MIA 1992             0              3              30           8  \n",
       "CHH 1997             0              3              46           8  \n",
       "DEN 1991             0              0              12           8  \n",
       "NYK 1997             6             10              49           8  \n",
       "PHO 1995             6             10              51           8  \n",
       "LAL 1995             5             10              40           8  \n",
       "GSW 1987             4             10              35           7  \n",
       "UTA 2006             0              0              34           7  "
      ]
     },
     "execution_count": 15,
     "metadata": {},
     "output_type": "execute_result"
    }
   ],
   "source": [
    "overachievers"
   ]
  },
  {
   "cell_type": "code",
   "execution_count": 16,
   "metadata": {},
   "outputs": [
    {
     "data": {
      "text/html": [
       "<div>\n",
       "<style scoped>\n",
       "    .dataframe tbody tr th:only-of-type {\n",
       "        vertical-align: middle;\n",
       "    }\n",
       "\n",
       "    .dataframe tbody tr th {\n",
       "        vertical-align: top;\n",
       "    }\n",
       "\n",
       "    .dataframe thead th {\n",
       "        text-align: right;\n",
       "    }\n",
       "</style>\n",
       "<table border=\"1\" class=\"dataframe\">\n",
       "  <thead>\n",
       "    <tr style=\"text-align: right;\">\n",
       "      <th></th>\n",
       "      <th>id</th>\n",
       "      <th>MOV</th>\n",
       "      <th>actual</th>\n",
       "      <th>prediction</th>\n",
       "      <th>error</th>\n",
       "      <th>wins</th>\n",
       "      <th>games</th>\n",
       "      <th>playoff_wins</th>\n",
       "      <th>playoff_games</th>\n",
       "      <th>predicted_wins</th>\n",
       "      <th>game_error</th>\n",
       "    </tr>\n",
       "    <tr>\n",
       "      <th>id</th>\n",
       "      <th></th>\n",
       "      <th></th>\n",
       "      <th></th>\n",
       "      <th></th>\n",
       "      <th></th>\n",
       "      <th></th>\n",
       "      <th></th>\n",
       "      <th></th>\n",
       "      <th></th>\n",
       "      <th></th>\n",
       "      <th></th>\n",
       "    </tr>\n",
       "  </thead>\n",
       "  <tbody>\n",
       "    <tr>\n",
       "      <th>SEA 1986</th>\n",
       "      <td>SEA 1986</td>\n",
       "      <td>-0.097561</td>\n",
       "      <td>0.378049</td>\n",
       "      <td>0.496843</td>\n",
       "      <td>-0.118794</td>\n",
       "      <td>31</td>\n",
       "      <td>82</td>\n",
       "      <td>0</td>\n",
       "      <td>0</td>\n",
       "      <td>41</td>\n",
       "      <td>-10</td>\n",
       "    </tr>\n",
       "    <tr>\n",
       "      <th>DAL 2018</th>\n",
       "      <td>DAL 2018</td>\n",
       "      <td>-3.036585</td>\n",
       "      <td>0.292683</td>\n",
       "      <td>0.401693</td>\n",
       "      <td>-0.109010</td>\n",
       "      <td>24</td>\n",
       "      <td>82</td>\n",
       "      <td>0</td>\n",
       "      <td>0</td>\n",
       "      <td>33</td>\n",
       "      <td>-9</td>\n",
       "    </tr>\n",
       "    <tr>\n",
       "      <th>PHI 2012</th>\n",
       "      <td>PHI 2012</td>\n",
       "      <td>4.242424</td>\n",
       "      <td>0.530303</td>\n",
       "      <td>0.637349</td>\n",
       "      <td>-0.107046</td>\n",
       "      <td>35</td>\n",
       "      <td>66</td>\n",
       "      <td>7</td>\n",
       "      <td>13</td>\n",
       "      <td>42</td>\n",
       "      <td>-7</td>\n",
       "    </tr>\n",
       "    <tr>\n",
       "      <th>DET 1998</th>\n",
       "      <td>DET 1998</td>\n",
       "      <td>1.573171</td>\n",
       "      <td>0.451220</td>\n",
       "      <td>0.550933</td>\n",
       "      <td>-0.099713</td>\n",
       "      <td>37</td>\n",
       "      <td>82</td>\n",
       "      <td>0</td>\n",
       "      <td>0</td>\n",
       "      <td>45</td>\n",
       "      <td>-8</td>\n",
       "    </tr>\n",
       "    <tr>\n",
       "      <th>DAL 2020</th>\n",
       "      <td>DAL 2020</td>\n",
       "      <td>6.044776</td>\n",
       "      <td>0.597015</td>\n",
       "      <td>0.695700</td>\n",
       "      <td>-0.098685</td>\n",
       "      <td>40</td>\n",
       "      <td>67</td>\n",
       "      <td>0</td>\n",
       "      <td>0</td>\n",
       "      <td>47</td>\n",
       "      <td>-7</td>\n",
       "    </tr>\n",
       "    <tr>\n",
       "      <th>MIN 2014</th>\n",
       "      <td>MIN 2014</td>\n",
       "      <td>2.670732</td>\n",
       "      <td>0.487805</td>\n",
       "      <td>0.586466</td>\n",
       "      <td>-0.098661</td>\n",
       "      <td>40</td>\n",
       "      <td>82</td>\n",
       "      <td>0</td>\n",
       "      <td>0</td>\n",
       "      <td>48</td>\n",
       "      <td>-8</td>\n",
       "    </tr>\n",
       "    <tr>\n",
       "      <th>POR 1985</th>\n",
       "      <td>POR 1985</td>\n",
       "      <td>3.402439</td>\n",
       "      <td>0.512195</td>\n",
       "      <td>0.610155</td>\n",
       "      <td>-0.097960</td>\n",
       "      <td>42</td>\n",
       "      <td>82</td>\n",
       "      <td>4</td>\n",
       "      <td>9</td>\n",
       "      <td>50</td>\n",
       "      <td>-8</td>\n",
       "    </tr>\n",
       "    <tr>\n",
       "      <th>MIL 1986</th>\n",
       "      <td>MIL 1986</td>\n",
       "      <td>9.036585</td>\n",
       "      <td>0.695122</td>\n",
       "      <td>0.792559</td>\n",
       "      <td>-0.097437</td>\n",
       "      <td>57</td>\n",
       "      <td>82</td>\n",
       "      <td>7</td>\n",
       "      <td>14</td>\n",
       "      <td>65</td>\n",
       "      <td>-8</td>\n",
       "    </tr>\n",
       "    <tr>\n",
       "      <th>BOS 2007</th>\n",
       "      <td>BOS 2007</td>\n",
       "      <td>-3.414634</td>\n",
       "      <td>0.292683</td>\n",
       "      <td>0.389454</td>\n",
       "      <td>-0.096771</td>\n",
       "      <td>24</td>\n",
       "      <td>82</td>\n",
       "      <td>0</td>\n",
       "      <td>0</td>\n",
       "      <td>32</td>\n",
       "      <td>-8</td>\n",
       "    </tr>\n",
       "    <tr>\n",
       "      <th>MIN 1990</th>\n",
       "      <td>MIN 1990</td>\n",
       "      <td>-4.231707</td>\n",
       "      <td>0.268293</td>\n",
       "      <td>0.363001</td>\n",
       "      <td>-0.094709</td>\n",
       "      <td>22</td>\n",
       "      <td>82</td>\n",
       "      <td>0</td>\n",
       "      <td>0</td>\n",
       "      <td>30</td>\n",
       "      <td>-8</td>\n",
       "    </tr>\n",
       "  </tbody>\n",
       "</table>\n",
       "</div>"
      ],
      "text/plain": [
       "                id       MOV    actual  prediction     error  wins  games  \\\n",
       "id                                                                          \n",
       "SEA 1986  SEA 1986 -0.097561  0.378049    0.496843 -0.118794    31     82   \n",
       "DAL 2018  DAL 2018 -3.036585  0.292683    0.401693 -0.109010    24     82   \n",
       "PHI 2012  PHI 2012  4.242424  0.530303    0.637349 -0.107046    35     66   \n",
       "DET 1998  DET 1998  1.573171  0.451220    0.550933 -0.099713    37     82   \n",
       "DAL 2020  DAL 2020  6.044776  0.597015    0.695700 -0.098685    40     67   \n",
       "MIN 2014  MIN 2014  2.670732  0.487805    0.586466 -0.098661    40     82   \n",
       "POR 1985  POR 1985  3.402439  0.512195    0.610155 -0.097960    42     82   \n",
       "MIL 1986  MIL 1986  9.036585  0.695122    0.792559 -0.097437    57     82   \n",
       "BOS 2007  BOS 2007 -3.414634  0.292683    0.389454 -0.096771    24     82   \n",
       "MIN 1990  MIN 1990 -4.231707  0.268293    0.363001 -0.094709    22     82   \n",
       "\n",
       "          playoff_wins  playoff_games  predicted_wins  game_error  \n",
       "id                                                                 \n",
       "SEA 1986             0              0              41         -10  \n",
       "DAL 2018             0              0              33          -9  \n",
       "PHI 2012             7             13              42          -7  \n",
       "DET 1998             0              0              45          -8  \n",
       "DAL 2020             0              0              47          -7  \n",
       "MIN 2014             0              0              48          -8  \n",
       "POR 1985             4              9              50          -8  \n",
       "MIL 1986             7             14              65          -8  \n",
       "BOS 2007             0              0              32          -8  \n",
       "MIN 1990             0              0              30          -8  "
      ]
     },
     "execution_count": 16,
     "metadata": {},
     "output_type": "execute_result"
    }
   ],
   "source": [
    "underachievers"
   ]
  },
  {
   "cell_type": "code",
   "execution_count": 17,
   "metadata": {},
   "outputs": [],
   "source": [
    "from sportsreference.nba.schedule import Schedule"
   ]
  },
  {
   "cell_type": "code",
   "execution_count": 18,
   "metadata": {},
   "outputs": [],
   "source": [
    "# for game in Schedule('DAL', year = 1993):\n",
    "#     print(game.date)  # Prints the date the game was played\n",
    "#     print(game.result)  # Prints whether the team won or lost"
   ]
  },
  {
   "cell_type": "code",
   "execution_count": 19,
   "metadata": {},
   "outputs": [],
   "source": [
    "dal_1993 = Schedule('DAL', year = 1993).dataframe\n",
    "\n",
    "dal_1993['MOV'] = [points - opp_points for points, opp_points in zip(dal_1993['points_scored'], dal_1993['points_allowed'])]"
   ]
  },
  {
   "cell_type": "code",
   "execution_count": 20,
   "metadata": {},
   "outputs": [
    {
     "data": {
      "text/plain": [
       "-58"
      ]
     },
     "execution_count": 20,
     "metadata": {},
     "output_type": "execute_result"
    }
   ],
   "source": [
    "min(dal_1993['MOV'])"
   ]
  },
  {
   "cell_type": "code",
   "execution_count": 21,
   "metadata": {},
   "outputs": [
    {
     "data": {
      "text/html": [
       "<div>\n",
       "<style scoped>\n",
       "    .dataframe tbody tr th:only-of-type {\n",
       "        vertical-align: middle;\n",
       "    }\n",
       "\n",
       "    .dataframe tbody tr th {\n",
       "        vertical-align: top;\n",
       "    }\n",
       "\n",
       "    .dataframe thead th {\n",
       "        text-align: right;\n",
       "    }\n",
       "</style>\n",
       "<table border=\"1\" class=\"dataframe\">\n",
       "  <thead>\n",
       "    <tr style=\"text-align: right;\">\n",
       "      <th></th>\n",
       "      <th>boxscore_index</th>\n",
       "      <th>date</th>\n",
       "      <th>datetime</th>\n",
       "      <th>game</th>\n",
       "      <th>location</th>\n",
       "      <th>losses</th>\n",
       "      <th>opponent_abbr</th>\n",
       "      <th>opponent_name</th>\n",
       "      <th>playoffs</th>\n",
       "      <th>points_allowed</th>\n",
       "      <th>points_scored</th>\n",
       "      <th>result</th>\n",
       "      <th>streak</th>\n",
       "      <th>time</th>\n",
       "      <th>wins</th>\n",
       "      <th>MOV</th>\n",
       "    </tr>\n",
       "  </thead>\n",
       "  <tbody>\n",
       "    <tr>\n",
       "      <th>199212290SAC</th>\n",
       "      <td>199212290SAC</td>\n",
       "      <td>Tue, Dec 29, 1992</td>\n",
       "      <td>1992-12-29</td>\n",
       "      <td>23</td>\n",
       "      <td>Away</td>\n",
       "      <td>21</td>\n",
       "      <td>SAC</td>\n",
       "      <td>Sacramento Kings</td>\n",
       "      <td>False</td>\n",
       "      <td>139</td>\n",
       "      <td>81</td>\n",
       "      <td>Loss</td>\n",
       "      <td>L 6</td>\n",
       "      <td></td>\n",
       "      <td>2</td>\n",
       "      <td>-58</td>\n",
       "    </tr>\n",
       "  </tbody>\n",
       "</table>\n",
       "</div>"
      ],
      "text/plain": [
       "             boxscore_index               date   datetime  game location  \\\n",
       "199212290SAC   199212290SAC  Tue, Dec 29, 1992 1992-12-29    23     Away   \n",
       "\n",
       "              losses opponent_abbr     opponent_name  playoffs  \\\n",
       "199212290SAC      21           SAC  Sacramento Kings     False   \n",
       "\n",
       "              points_allowed  points_scored result streak time  wins  MOV  \n",
       "199212290SAC             139             81   Loss    L 6          2  -58  "
      ]
     },
     "execution_count": 21,
     "metadata": {},
     "output_type": "execute_result"
    }
   ],
   "source": [
    "dal_1993[dal_1993['MOV'] == -58]"
   ]
  },
  {
   "cell_type": "code",
   "execution_count": 22,
   "metadata": {},
   "outputs": [
    {
     "data": {
      "text/plain": [
       "(26, 16)"
      ]
     },
     "execution_count": 22,
     "metadata": {},
     "output_type": "execute_result"
    }
   ],
   "source": [
    "dal_1993[dal_1993['MOV'] < -20].shape"
   ]
  },
  {
   "cell_type": "code",
   "execution_count": 23,
   "metadata": {},
   "outputs": [],
   "source": [
    "# from sportsreference.nba.boxscore import Boxscore\n",
    "\n",
    "# Boxscore('199212290SAC').dataframe"
   ]
  },
  {
   "cell_type": "markdown",
   "metadata": {},
   "source": [
    "### Logistic Model\n",
    "\n",
    "Problem with the original regression is that it is linear and predicting a rate. Theoretically it is impossible to have a win rate less than 0 or greater than 1. Re-create model with a logistic regression."
   ]
  },
  {
   "cell_type": "code",
   "execution_count": 24,
   "metadata": {},
   "outputs": [],
   "source": [
    "# leave x as is\n",
    "# convert y to logit of regular win rate"
   ]
  },
  {
   "cell_type": "code",
   "execution_count": 25,
   "metadata": {},
   "outputs": [],
   "source": [
    "def logit(p):\n",
    "    return np.log(p/(1-p))\n",
    "\n",
    "def sigmoid(x):\n",
    "    return 1 / (1 + np.exp(-x))"
   ]
  },
  {
   "cell_type": "code",
   "execution_count": 26,
   "metadata": {},
   "outputs": [],
   "source": [
    "X = pd.DataFrame(data['MOV'])\n",
    "X['intercept'] = [1 for x in range(data.shape[0])]\n",
    "y = data['win_rate'].apply(logit)"
   ]
  },
  {
   "cell_type": "code",
   "execution_count": 27,
   "metadata": {},
   "outputs": [
    {
     "data": {
      "text/html": [
       "<table class=\"simpletable\">\n",
       "<caption>OLS Regression Results</caption>\n",
       "<tr>\n",
       "  <th>Dep. Variable:</th>        <td>win_rate</td>     <th>  R-squared:         </th> <td>   0.940</td> \n",
       "</tr>\n",
       "<tr>\n",
       "  <th>Model:</th>                   <td>OLS</td>       <th>  Adj. R-squared:    </th> <td>   0.940</td> \n",
       "</tr>\n",
       "<tr>\n",
       "  <th>Method:</th>             <td>Least Squares</td>  <th>  F-statistic:       </th> <td>1.788e+04</td>\n",
       "</tr>\n",
       "<tr>\n",
       "  <th>Date:</th>             <td>Thu, 23 Apr 2020</td> <th>  Prob (F-statistic):</th>  <td>  0.00</td>  \n",
       "</tr>\n",
       "<tr>\n",
       "  <th>Time:</th>                 <td>15:47:07</td>     <th>  Log-Likelihood:    </th> <td>  432.81</td> \n",
       "</tr>\n",
       "<tr>\n",
       "  <th>No. Observations:</th>      <td>  1134</td>      <th>  AIC:               </th> <td>  -861.6</td> \n",
       "</tr>\n",
       "<tr>\n",
       "  <th>Df Residuals:</th>          <td>  1132</td>      <th>  BIC:               </th> <td>  -851.5</td> \n",
       "</tr>\n",
       "<tr>\n",
       "  <th>Df Model:</th>              <td>     1</td>      <th>                     </th>     <td> </td>    \n",
       "</tr>\n",
       "<tr>\n",
       "  <th>Covariance Type:</th>      <td>nonrobust</td>    <th>                     </th>     <td> </td>    \n",
       "</tr>\n",
       "</table>\n",
       "<table class=\"simpletable\">\n",
       "<tr>\n",
       "      <td></td>         <th>coef</th>     <th>std err</th>      <th>t</th>      <th>P>|t|</th>  <th>[0.025</th>    <th>0.975]</th>  \n",
       "</tr>\n",
       "<tr>\n",
       "  <th>MOV</th>       <td>    0.1415</td> <td>    0.001</td> <td>  133.712</td> <td> 0.000</td> <td>    0.139</td> <td>    0.144</td>\n",
       "</tr>\n",
       "<tr>\n",
       "  <th>intercept</th> <td>   -0.0049</td> <td>    0.005</td> <td>   -0.989</td> <td> 0.323</td> <td>   -0.014</td> <td>    0.005</td>\n",
       "</tr>\n",
       "</table>\n",
       "<table class=\"simpletable\">\n",
       "<tr>\n",
       "  <th>Omnibus:</th>       <td> 1.747</td> <th>  Durbin-Watson:     </th> <td>   2.017</td>\n",
       "</tr>\n",
       "<tr>\n",
       "  <th>Prob(Omnibus):</th> <td> 0.417</td> <th>  Jarque-Bera (JB):  </th> <td>   1.632</td>\n",
       "</tr>\n",
       "<tr>\n",
       "  <th>Skew:</th>          <td>-0.061</td> <th>  Prob(JB):          </th> <td>   0.442</td>\n",
       "</tr>\n",
       "<tr>\n",
       "  <th>Kurtosis:</th>      <td> 3.140</td> <th>  Cond. No.          </th> <td>    4.64</td>\n",
       "</tr>\n",
       "</table><br/><br/>Warnings:<br/>[1] Standard Errors assume that the covariance matrix of the errors is correctly specified."
      ],
      "text/plain": [
       "<class 'statsmodels.iolib.summary.Summary'>\n",
       "\"\"\"\n",
       "                            OLS Regression Results                            \n",
       "==============================================================================\n",
       "Dep. Variable:               win_rate   R-squared:                       0.940\n",
       "Model:                            OLS   Adj. R-squared:                  0.940\n",
       "Method:                 Least Squares   F-statistic:                 1.788e+04\n",
       "Date:                Thu, 23 Apr 2020   Prob (F-statistic):               0.00\n",
       "Time:                        15:47:07   Log-Likelihood:                 432.81\n",
       "No. Observations:                1134   AIC:                            -861.6\n",
       "Df Residuals:                    1132   BIC:                            -851.5\n",
       "Df Model:                           1                                         \n",
       "Covariance Type:            nonrobust                                         \n",
       "==============================================================================\n",
       "                 coef    std err          t      P>|t|      [0.025      0.975]\n",
       "------------------------------------------------------------------------------\n",
       "MOV            0.1415      0.001    133.712      0.000       0.139       0.144\n",
       "intercept     -0.0049      0.005     -0.989      0.323      -0.014       0.005\n",
       "==============================================================================\n",
       "Omnibus:                        1.747   Durbin-Watson:                   2.017\n",
       "Prob(Omnibus):                  0.417   Jarque-Bera (JB):                1.632\n",
       "Skew:                          -0.061   Prob(JB):                        0.442\n",
       "Kurtosis:                       3.140   Cond. No.                         4.64\n",
       "==============================================================================\n",
       "\n",
       "Warnings:\n",
       "[1] Standard Errors assume that the covariance matrix of the errors is correctly specified.\n",
       "\"\"\""
      ]
     },
     "execution_count": 27,
     "metadata": {},
     "output_type": "execute_result"
    }
   ],
   "source": [
    "# shouldn't need an intercept here since MOV = 0 should produce win rate of about 50%\n",
    "\n",
    "model = sm.OLS(y, X)\n",
    "fit = model.fit()\n",
    "fit.summary()"
   ]
  },
  {
   "cell_type": "code",
   "execution_count": 28,
   "metadata": {},
   "outputs": [],
   "source": [
    "preds = [sigmoid(x) for x in fit.predict(X)]"
   ]
  },
  {
   "cell_type": "code",
   "execution_count": 29,
   "metadata": {},
   "outputs": [
    {
     "data": {
      "text/plain": [
       "0.02911528113373538"
      ]
     },
     "execution_count": 29,
     "metadata": {},
     "output_type": "execute_result"
    }
   ],
   "source": [
    "mae(preds, y.apply(sigmoid))"
   ]
  },
  {
   "cell_type": "code",
   "execution_count": 30,
   "metadata": {},
   "outputs": [
    {
     "data": {
      "text/plain": [
       "0.9443574450534473"
      ]
     },
     "execution_count": 30,
     "metadata": {},
     "output_type": "execute_result"
    }
   ],
   "source": [
    "from sklearn.metrics import r2_score\n",
    "\n",
    "r2_score(y.apply(sigmoid), preds)"
   ]
  },
  {
   "cell_type": "code",
   "execution_count": 31,
   "metadata": {},
   "outputs": [],
   "source": [
    "results = pd.DataFrame({'id': data.index, 'MOV': data['MOV'], 'actual': data['win_rate'], 'prediction': preds})\n",
    "\n",
    "# Positive Error for overachievers, negative error for underachievers\n",
    "results['error'] = [act - pred for act, pred in zip(results['actual'], results['prediction'])]\n",
    "\n",
    "merge_cols = ['wins', 'games', 'playoff_wins', 'playoff_games']\n",
    "\n",
    "results = pd.merge(left = results, right = data[merge_cols], how = 'inner', right_index = True, left_index = True)\n",
    "\n",
    "results['predicted_wins'] = [int(round((prediction) * games, 0)) for prediction,\n",
    "                             games in zip(results['prediction'], results['games'])]\n",
    "\n",
    "results['game_error'] = [wins - pwins for wins, pwins in zip(results['wins'], results['predicted_wins'])]"
   ]
  },
  {
   "cell_type": "code",
   "execution_count": 32,
   "metadata": {},
   "outputs": [
    {
     "data": {
      "text/plain": [
       "2.314814814814815"
      ]
     },
     "execution_count": 32,
     "metadata": {},
     "output_type": "execute_result"
    }
   ],
   "source": [
    "mae(results['predicted_wins'], results['wins'])"
   ]
  },
  {
   "cell_type": "code",
   "execution_count": 33,
   "metadata": {},
   "outputs": [
    {
     "data": {
      "image/png": "[encoded data removed]",
      "text/plain": [
       "<Figure size 1080x432 with 2 Axes>"
      ]
     },
     "metadata": {
      "needs_background": "light"
     },
     "output_type": "display_data"
    }
   ],
   "source": [
    "plt.figure(figsize=(15,6))\n",
    "\n",
    "plt.subplot(1,2,1)\n",
    "sns.scatterplot(x = X['MOV'], y = y.apply(sigmoid))\n",
    "sns.lineplot(x = X['MOV'], y = preds, color = 'red')\n",
    "plt.title('Margin of Victory vs Win Rate')\n",
    "\n",
    "plt.subplot(1,2,2)\n",
    "sns.distplot(results['game_error'], bins = 21)\n",
    "plt.title('Residual Distribution');"
   ]
  },
  {
   "cell_type": "code",
   "execution_count": 34,
   "metadata": {},
   "outputs": [],
   "source": [
    "overachievers = results[results['playoff_wins'] >= 4].sort_values(by = 'error', ascending = False)\n",
    "underachievers = results[np.array(results['MOV'] >= 0) & np.array(results['playoff_wins'] < 4)].sort_values(by = 'error')"
   ]
  },
  {
   "cell_type": "code",
   "execution_count": 35,
   "metadata": {},
   "outputs": [
    {
     "data": {
      "text/html": [
       "<div>\n",
       "<style scoped>\n",
       "    .dataframe tbody tr th:only-of-type {\n",
       "        vertical-align: middle;\n",
       "    }\n",
       "\n",
       "    .dataframe tbody tr th {\n",
       "        vertical-align: top;\n",
       "    }\n",
       "\n",
       "    .dataframe thead th {\n",
       "        text-align: right;\n",
       "    }\n",
       "</style>\n",
       "<table border=\"1\" class=\"dataframe\">\n",
       "  <thead>\n",
       "    <tr style=\"text-align: right;\">\n",
       "      <th></th>\n",
       "      <th>id</th>\n",
       "      <th>MOV</th>\n",
       "      <th>actual</th>\n",
       "      <th>prediction</th>\n",
       "      <th>error</th>\n",
       "      <th>wins</th>\n",
       "      <th>games</th>\n",
       "      <th>playoff_wins</th>\n",
       "      <th>playoff_games</th>\n",
       "      <th>predicted_wins</th>\n",
       "      <th>game_error</th>\n",
       "    </tr>\n",
       "    <tr>\n",
       "      <th>id</th>\n",
       "      <th></th>\n",
       "      <th></th>\n",
       "      <th></th>\n",
       "      <th></th>\n",
       "      <th></th>\n",
       "      <th></th>\n",
       "      <th></th>\n",
       "      <th></th>\n",
       "      <th></th>\n",
       "      <th></th>\n",
       "      <th></th>\n",
       "    </tr>\n",
       "  </thead>\n",
       "  <tbody>\n",
       "    <tr>\n",
       "      <th>GSW 1987</th>\n",
       "      <td>GSW 1987</td>\n",
       "      <td>-2.341463</td>\n",
       "      <td>0.512195</td>\n",
       "      <td>0.416712</td>\n",
       "      <td>0.095483</td>\n",
       "      <td>42</td>\n",
       "      <td>82</td>\n",
       "      <td>4</td>\n",
       "      <td>10</td>\n",
       "      <td>34</td>\n",
       "      <td>8</td>\n",
       "    </tr>\n",
       "    <tr>\n",
       "      <th>LAL 1995</th>\n",
       "      <td>LAL 1995</td>\n",
       "      <td>-0.219512</td>\n",
       "      <td>0.585366</td>\n",
       "      <td>0.491020</td>\n",
       "      <td>0.094346</td>\n",
       "      <td>48</td>\n",
       "      <td>82</td>\n",
       "      <td>5</td>\n",
       "      <td>10</td>\n",
       "      <td>40</td>\n",
       "      <td>8</td>\n",
       "    </tr>\n",
       "    <tr>\n",
       "      <th>NYK 1997</th>\n",
       "      <td>NYK 1997</td>\n",
       "      <td>3.121951</td>\n",
       "      <td>0.695122</td>\n",
       "      <td>0.607557</td>\n",
       "      <td>0.087565</td>\n",
       "      <td>57</td>\n",
       "      <td>82</td>\n",
       "      <td>6</td>\n",
       "      <td>10</td>\n",
       "      <td>50</td>\n",
       "      <td>7</td>\n",
       "    </tr>\n",
       "    <tr>\n",
       "      <th>PHO 1995</th>\n",
       "      <td>PHO 1995</td>\n",
       "      <td>3.878049</td>\n",
       "      <td>0.719512</td>\n",
       "      <td>0.632761</td>\n",
       "      <td>0.086751</td>\n",
       "      <td>59</td>\n",
       "      <td>82</td>\n",
       "      <td>6</td>\n",
       "      <td>10</td>\n",
       "      <td>52</td>\n",
       "      <td>7</td>\n",
       "    </tr>\n",
       "    <tr>\n",
       "      <th>CLE 2018</th>\n",
       "      <td>CLE 2018</td>\n",
       "      <td>0.939024</td>\n",
       "      <td>0.609756</td>\n",
       "      <td>0.531972</td>\n",
       "      <td>0.077784</td>\n",
       "      <td>50</td>\n",
       "      <td>82</td>\n",
       "      <td>12</td>\n",
       "      <td>22</td>\n",
       "      <td>44</td>\n",
       "      <td>6</td>\n",
       "    </tr>\n",
       "    <tr>\n",
       "      <th>PHI 1986</th>\n",
       "      <td>PHI 1986</td>\n",
       "      <td>2.353659</td>\n",
       "      <td>0.658537</td>\n",
       "      <td>0.581347</td>\n",
       "      <td>0.077190</td>\n",
       "      <td>54</td>\n",
       "      <td>82</td>\n",
       "      <td>6</td>\n",
       "      <td>12</td>\n",
       "      <td>48</td>\n",
       "      <td>6</td>\n",
       "    </tr>\n",
       "    <tr>\n",
       "      <th>PHI 1980</th>\n",
       "      <td>PHI 1980</td>\n",
       "      <td>4.219512</td>\n",
       "      <td>0.719512</td>\n",
       "      <td>0.643919</td>\n",
       "      <td>0.075593</td>\n",
       "      <td>59</td>\n",
       "      <td>82</td>\n",
       "      <td>12</td>\n",
       "      <td>18</td>\n",
       "      <td>53</td>\n",
       "      <td>6</td>\n",
       "    </tr>\n",
       "    <tr>\n",
       "      <th>DET 1989</th>\n",
       "      <td>DET 1989</td>\n",
       "      <td>5.804878</td>\n",
       "      <td>0.768293</td>\n",
       "      <td>0.693561</td>\n",
       "      <td>0.074731</td>\n",
       "      <td>63</td>\n",
       "      <td>82</td>\n",
       "      <td>15</td>\n",
       "      <td>17</td>\n",
       "      <td>57</td>\n",
       "      <td>6</td>\n",
       "    </tr>\n",
       "    <tr>\n",
       "      <th>BRK 2014</th>\n",
       "      <td>BRK 2014</td>\n",
       "      <td>-1.000000</td>\n",
       "      <td>0.536585</td>\n",
       "      <td>0.463464</td>\n",
       "      <td>0.073121</td>\n",
       "      <td>44</td>\n",
       "      <td>82</td>\n",
       "      <td>5</td>\n",
       "      <td>12</td>\n",
       "      <td>38</td>\n",
       "      <td>6</td>\n",
       "    </tr>\n",
       "    <tr>\n",
       "      <th>LAL 2012</th>\n",
       "      <td>LAL 2012</td>\n",
       "      <td>1.424242</td>\n",
       "      <td>0.621212</td>\n",
       "      <td>0.549029</td>\n",
       "      <td>0.072184</td>\n",
       "      <td>41</td>\n",
       "      <td>66</td>\n",
       "      <td>5</td>\n",
       "      <td>12</td>\n",
       "      <td>36</td>\n",
       "      <td>5</td>\n",
       "    </tr>\n",
       "  </tbody>\n",
       "</table>\n",
       "</div>"
      ],
      "text/plain": [
       "                id       MOV    actual  prediction     error  wins  games  \\\n",
       "id                                                                          \n",
       "GSW 1987  GSW 1987 -2.341463  0.512195    0.416712  0.095483    42     82   \n",
       "LAL 1995  LAL 1995 -0.219512  0.585366    0.491020  0.094346    48     82   \n",
       "NYK 1997  NYK 1997  3.121951  0.695122    0.607557  0.087565    57     82   \n",
       "PHO 1995  PHO 1995  3.878049  0.719512    0.632761  0.086751    59     82   \n",
       "CLE 2018  CLE 2018  0.939024  0.609756    0.531972  0.077784    50     82   \n",
       "PHI 1986  PHI 1986  2.353659  0.658537    0.581347  0.077190    54     82   \n",
       "PHI 1980  PHI 1980  4.219512  0.719512    0.643919  0.075593    59     82   \n",
       "DET 1989  DET 1989  5.804878  0.768293    0.693561  0.074731    63     82   \n",
       "BRK 2014  BRK 2014 -1.000000  0.536585    0.463464  0.073121    44     82   \n",
       "LAL 2012  LAL 2012  1.424242  0.621212    0.549029  0.072184    41     66   \n",
       "\n",
       "          playoff_wins  playoff_games  predicted_wins  game_error  \n",
       "id                                                                 \n",
       "GSW 1987             4             10              34           8  \n",
       "LAL 1995             5             10              40           8  \n",
       "NYK 1997             6             10              50           7  \n",
       "PHO 1995             6             10              52           7  \n",
       "CLE 2018            12             22              44           6  \n",
       "PHI 1986             6             12              48           6  \n",
       "PHI 1980            12             18              53           6  \n",
       "DET 1989            15             17              57           6  \n",
       "BRK 2014             5             12              38           6  \n",
       "LAL 2012             5             12              36           5  "
      ]
     },
     "execution_count": 35,
     "metadata": {},
     "output_type": "execute_result"
    }
   ],
   "source": [
    "overachievers.head(10)"
   ]
  },
  {
   "cell_type": "code",
   "execution_count": 36,
   "metadata": {},
   "outputs": [
    {
     "data": {
      "text/html": [
       "<div>\n",
       "<style scoped>\n",
       "    .dataframe tbody tr th:only-of-type {\n",
       "        vertical-align: middle;\n",
       "    }\n",
       "\n",
       "    .dataframe tbody tr th {\n",
       "        vertical-align: top;\n",
       "    }\n",
       "\n",
       "    .dataframe thead th {\n",
       "        text-align: right;\n",
       "    }\n",
       "</style>\n",
       "<table border=\"1\" class=\"dataframe\">\n",
       "  <thead>\n",
       "    <tr style=\"text-align: right;\">\n",
       "      <th></th>\n",
       "      <th>id</th>\n",
       "      <th>MOV</th>\n",
       "      <th>actual</th>\n",
       "      <th>prediction</th>\n",
       "      <th>error</th>\n",
       "      <th>wins</th>\n",
       "      <th>games</th>\n",
       "      <th>playoff_wins</th>\n",
       "      <th>playoff_games</th>\n",
       "      <th>predicted_wins</th>\n",
       "      <th>game_error</th>\n",
       "    </tr>\n",
       "    <tr>\n",
       "      <th>id</th>\n",
       "      <th></th>\n",
       "      <th></th>\n",
       "      <th></th>\n",
       "      <th></th>\n",
       "      <th></th>\n",
       "      <th></th>\n",
       "      <th></th>\n",
       "      <th></th>\n",
       "      <th></th>\n",
       "      <th></th>\n",
       "      <th></th>\n",
       "    </tr>\n",
       "  </thead>\n",
       "  <tbody>\n",
       "    <tr>\n",
       "      <th>MIN 2014</th>\n",
       "      <td>MIN 2014</td>\n",
       "      <td>2.670732</td>\n",
       "      <td>0.487805</td>\n",
       "      <td>0.592229</td>\n",
       "      <td>-0.104424</td>\n",
       "      <td>40</td>\n",
       "      <td>82</td>\n",
       "      <td>0</td>\n",
       "      <td>0</td>\n",
       "      <td>49</td>\n",
       "      <td>-9</td>\n",
       "    </tr>\n",
       "    <tr>\n",
       "      <th>DAL 2020</th>\n",
       "      <td>DAL 2020</td>\n",
       "      <td>6.044776</td>\n",
       "      <td>0.597015</td>\n",
       "      <td>0.700731</td>\n",
       "      <td>-0.103716</td>\n",
       "      <td>40</td>\n",
       "      <td>67</td>\n",
       "      <td>0</td>\n",
       "      <td>0</td>\n",
       "      <td>47</td>\n",
       "      <td>-7</td>\n",
       "    </tr>\n",
       "    <tr>\n",
       "      <th>DET 1998</th>\n",
       "      <td>DET 1998</td>\n",
       "      <td>1.573171</td>\n",
       "      <td>0.451220</td>\n",
       "      <td>0.554242</td>\n",
       "      <td>-0.103023</td>\n",
       "      <td>37</td>\n",
       "      <td>82</td>\n",
       "      <td>0</td>\n",
       "      <td>0</td>\n",
       "      <td>45</td>\n",
       "      <td>-8</td>\n",
       "    </tr>\n",
       "    <tr>\n",
       "      <th>TOR 2008</th>\n",
       "      <td>TOR 2008</td>\n",
       "      <td>2.902439</td>\n",
       "      <td>0.500000</td>\n",
       "      <td>0.600124</td>\n",
       "      <td>-0.100124</td>\n",
       "      <td>41</td>\n",
       "      <td>82</td>\n",
       "      <td>1</td>\n",
       "      <td>5</td>\n",
       "      <td>49</td>\n",
       "      <td>-8</td>\n",
       "    </tr>\n",
       "    <tr>\n",
       "      <th>POR 1995</th>\n",
       "      <td>POR 1995</td>\n",
       "      <td>3.817073</td>\n",
       "      <td>0.536585</td>\n",
       "      <td>0.630753</td>\n",
       "      <td>-0.094168</td>\n",
       "      <td>44</td>\n",
       "      <td>82</td>\n",
       "      <td>0</td>\n",
       "      <td>3</td>\n",
       "      <td>52</td>\n",
       "      <td>-8</td>\n",
       "    </tr>\n",
       "    <tr>\n",
       "      <th>MIA 1994</th>\n",
       "      <td>MIA 1994</td>\n",
       "      <td>2.670732</td>\n",
       "      <td>0.512195</td>\n",
       "      <td>0.592229</td>\n",
       "      <td>-0.080033</td>\n",
       "      <td>42</td>\n",
       "      <td>82</td>\n",
       "      <td>2</td>\n",
       "      <td>5</td>\n",
       "      <td>49</td>\n",
       "      <td>-7</td>\n",
       "    </tr>\n",
       "    <tr>\n",
       "      <th>IND 1992</th>\n",
       "      <td>IND 1992</td>\n",
       "      <td>1.890244</td>\n",
       "      <td>0.487805</td>\n",
       "      <td>0.565302</td>\n",
       "      <td>-0.077497</td>\n",
       "      <td>40</td>\n",
       "      <td>82</td>\n",
       "      <td>0</td>\n",
       "      <td>3</td>\n",
       "      <td>46</td>\n",
       "      <td>-6</td>\n",
       "    </tr>\n",
       "    <tr>\n",
       "      <th>POR 1989</th>\n",
       "      <td>POR 1989</td>\n",
       "      <td>1.463415</td>\n",
       "      <td>0.475610</td>\n",
       "      <td>0.550401</td>\n",
       "      <td>-0.074791</td>\n",
       "      <td>39</td>\n",
       "      <td>82</td>\n",
       "      <td>0</td>\n",
       "      <td>3</td>\n",
       "      <td>45</td>\n",
       "      <td>-6</td>\n",
       "    </tr>\n",
       "    <tr>\n",
       "      <th>UTA 2016</th>\n",
       "      <td>UTA 2016</td>\n",
       "      <td>1.792683</td>\n",
       "      <td>0.487805</td>\n",
       "      <td>0.561905</td>\n",
       "      <td>-0.074101</td>\n",
       "      <td>40</td>\n",
       "      <td>82</td>\n",
       "      <td>0</td>\n",
       "      <td>0</td>\n",
       "      <td>46</td>\n",
       "      <td>-6</td>\n",
       "    </tr>\n",
       "    <tr>\n",
       "      <th>HOU 2013</th>\n",
       "      <td>HOU 2013</td>\n",
       "      <td>3.475610</td>\n",
       "      <td>0.548780</td>\n",
       "      <td>0.619427</td>\n",
       "      <td>-0.070646</td>\n",
       "      <td>45</td>\n",
       "      <td>82</td>\n",
       "      <td>2</td>\n",
       "      <td>6</td>\n",
       "      <td>51</td>\n",
       "      <td>-6</td>\n",
       "    </tr>\n",
       "  </tbody>\n",
       "</table>\n",
       "</div>"
      ],
      "text/plain": [
       "                id       MOV    actual  prediction     error  wins  games  \\\n",
       "id                                                                          \n",
       "MIN 2014  MIN 2014  2.670732  0.487805    0.592229 -0.104424    40     82   \n",
       "DAL 2020  DAL 2020  6.044776  0.597015    0.700731 -0.103716    40     67   \n",
       "DET 1998  DET 1998  1.573171  0.451220    0.554242 -0.103023    37     82   \n",
       "TOR 2008  TOR 2008  2.902439  0.500000    0.600124 -0.100124    41     82   \n",
       "POR 1995  POR 1995  3.817073  0.536585    0.630753 -0.094168    44     82   \n",
       "MIA 1994  MIA 1994  2.670732  0.512195    0.592229 -0.080033    42     82   \n",
       "IND 1992  IND 1992  1.890244  0.487805    0.565302 -0.077497    40     82   \n",
       "POR 1989  POR 1989  1.463415  0.475610    0.550401 -0.074791    39     82   \n",
       "UTA 2016  UTA 2016  1.792683  0.487805    0.561905 -0.074101    40     82   \n",
       "HOU 2013  HOU 2013  3.475610  0.548780    0.619427 -0.070646    45     82   \n",
       "\n",
       "          playoff_wins  playoff_games  predicted_wins  game_error  \n",
       "id                                                                 \n",
       "MIN 2014             0              0              49          -9  \n",
       "DAL 2020             0              0              47          -7  \n",
       "DET 1998             0              0              45          -8  \n",
       "TOR 2008             1              5              49          -8  \n",
       "POR 1995             0              3              52          -8  \n",
       "MIA 1994             2              5              49          -7  \n",
       "IND 1992             0              3              46          -6  \n",
       "POR 1989             0              3              45          -6  \n",
       "UTA 2016             0              0              46          -6  \n",
       "HOU 2013             2              6              51          -6  "
      ]
     },
     "execution_count": 36,
     "metadata": {},
     "output_type": "execute_result"
    }
   ],
   "source": [
    "underachievers.head(10)"
   ]
  },
  {
   "cell_type": "markdown",
   "metadata": {},
   "source": [
    "finally lets see how the 1993 Mavs stack up with the new model"
   ]
  },
  {
   "cell_type": "code",
   "execution_count": 57,
   "metadata": {},
   "outputs": [
    {
     "data": {
      "text/plain": [
       "8.511501487648385"
      ]
     },
     "execution_count": 57,
     "metadata": {},
     "output_type": "execute_result"
    }
   ],
   "source": [
    "sigmoid(fit.predict([-15.195122, 1]))[0] * 82"
   ]
  },
  {
   "cell_type": "code",
   "execution_count": 58,
   "metadata": {},
   "outputs": [],
   "source": [
    "# much closer to their 11 wins"
   ]
  },
  {
   "cell_type": "code",
   "execution_count": 73,
   "metadata": {},
   "outputs": [],
   "source": [
    "gsw_1987 = Schedule('GSW', year = 1987).dataframe\n",
    "\n",
    "gsw_1987['MOV'] = [points - opp_points for points, opp_points in zip(gsw_1987['points_scored'], gsw_1987['points_allowed'])]"
   ]
  },
  {
   "cell_type": "code",
   "execution_count": 74,
   "metadata": {},
   "outputs": [
    {
     "data": {
      "text/plain": [
       "(20, 16)"
      ]
     },
     "execution_count": 74,
     "metadata": {},
     "output_type": "execute_result"
    }
   ],
   "source": [
    "gsw_1987[np.array(gsw_1987['MOV'] > 0) & np.array(gsw_1987['MOV'] <= 6)].shape"
   ]
  },
  {
   "cell_type": "code",
   "execution_count": 75,
   "metadata": {},
   "outputs": [
    {
     "data": {
      "text/plain": [
       "(30, 16)"
      ]
     },
     "execution_count": 75,
     "metadata": {},
     "output_type": "execute_result"
    }
   ],
   "source": [
    "gsw_1987[gsw_1987['MOV'] <= -10].shape"
   ]
  },
  {
   "cell_type": "code",
   "execution_count": 76,
   "metadata": {},
   "outputs": [
    {
     "data": {
      "text/plain": [
       "(12, 16)"
      ]
     },
     "execution_count": 76,
     "metadata": {},
     "output_type": "execute_result"
    }
   ],
   "source": [
    "gsw_1987[np.array(gsw_1987['MOV'] < 0) & np.array(gsw_1987['MOV'] >= -6)].shape"
   ]
  },
  {
   "cell_type": "code",
   "execution_count": 77,
   "metadata": {},
   "outputs": [],
   "source": [
    "min_2014 = Schedule('MIN', year = 2014).dataframe\n",
    "\n",
    "min_2014['MOV'] = [points - opp_points for points, opp_points in zip(min_2014['points_scored'], min_2014['points_allowed'])]"
   ]
  },
  {
   "cell_type": "code",
   "execution_count": 96,
   "metadata": {},
   "outputs": [
    {
     "data": {
      "text/plain": [
       "(24, 16)"
      ]
     },
     "execution_count": 96,
     "metadata": {},
     "output_type": "execute_result"
    }
   ],
   "source": [
    "min_2014[np.array(min_2014['MOV'] < 0) & np.array(min_2014['MOV'] >= -9)].shape"
   ]
  },
  {
   "cell_type": "code",
   "execution_count": 97,
   "metadata": {},
   "outputs": [
    {
     "data": {
      "text/plain": [
       "(14, 16)"
      ]
     },
     "execution_count": 97,
     "metadata": {},
     "output_type": "execute_result"
    }
   ],
   "source": [
    "min_2014[np.array(min_2014['MOV'] > 0) & np.array(min_2014['MOV'] <= 9)].shape"
   ]
  },
  {
   "cell_type": "code",
   "execution_count": 95,
   "metadata": {},
   "outputs": [
    {
     "data": {
      "text/plain": [
       "(26, 16)"
      ]
     },
     "execution_count": 95,
     "metadata": {},
     "output_type": "execute_result"
    }
   ],
   "source": [
    "min_2014[min_2014['MOV'] >= 10].shape"
   ]
  },
  {
   "cell_type": "code",
   "execution_count": null,
   "metadata": {},
   "outputs": [],
   "source": []
  }
 ],
 "metadata": {
  "kernelspec": {
   "display_name": "Python 3",
   "language": "python",
   "name": "python3"
  },
  "language_info": {
   "codemirror_mode": {
    "name": "ipython",
    "version": 3
   },
   "file_extension": ".py",
   "mimetype": "text/x-python",
   "name": "python",
   "nbconvert_exporter": "python",
   "pygments_lexer": "ipython3",
   "version": "3.7.3"
  }
 },
 "nbformat": 4,
 "nbformat_minor": 2
}
